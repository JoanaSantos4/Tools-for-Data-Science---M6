{
 "cells": [
  {
   "cell_type": "markdown",
   "id": "c3b278a4-a2b6-41a0-9608-181f4d7a4a87",
   "metadata": {},
   "source": [
    "# Data Science Tools and Ecosystem"
   ]
  },
  {
   "cell_type": "markdown",
   "id": "c7a75094-209b-4812-8679-10ccd578fd48",
   "metadata": {},
   "source": [
    "In this notebook, Data Science Tools and Ecosystem are summarized."
   ]
  },
  {
   "cell_type": "markdown",
   "id": "f246aea8-46ba-41db-9ef6-0e05af72a04a",
   "metadata": {},
   "source": [
    "**Objectives**\n",
    "- List popular languages for Data Science\n",
    "- List commonly used libraries in Data Science\n",
    "- Create a table\n",
    "- Introduce arithmetic expressions"
   ]
  },
  {
   "cell_type": "markdown",
   "id": "4682f9fa-98a8-4e04-869c-8baec7d1c907",
   "metadata": {},
   "source": [
    "Some of the popular languages that Data Scientists use are:\n",
    "1. Julia\n",
    "2. Python\n",
    "3. R"
   ]
  },
  {
   "cell_type": "markdown",
   "id": "baccbb74-7a5d-4a46-96c2-d88f6df86020",
   "metadata": {},
   "source": [
    "Some of the commonly used libraries used by Data Scientists include:\n",
    "1. dplyr\n",
    "2. stringr\n",
    "3. ggplot\n",
    "4. caret"
   ]
  },
  {
   "cell_type": "markdown",
   "id": "6b29b18c-fe53-44f1-9b6b-fca913fa310a",
   "metadata": {},
   "source": [
    "|**Data Science Tools**|\n",
    "|-|\n",
    "|JupyterLite|\n",
    "|RStudio|\n",
    "|VS Code|"
   ]
  },
  {
   "cell_type": "markdown",
   "id": "2e4e7e19-86d0-4ef8-8927-b3837784dc24",
   "metadata": {},
   "source": [
    "Below are a few examples of evaluating arithmetic expressions in Python.\n",
    "- 1+1\n",
    "- (1*2)-5"
   ]
  },
  {
   "cell_type": "code",
   "execution_count": 1,
   "id": "db934b3e-c315-49af-9ba7-5c2640692948",
   "metadata": {},
   "outputs": [
    {
     "data": {
      "text/plain": [
       "17"
      ]
     },
     "execution_count": 1,
     "metadata": {},
     "output_type": "execute_result"
    }
   ],
   "source": [
    "# This is a simple arithmetic expression to multiply then add integers\n",
    "(3*4)+5"
   ]
  },
  {
   "cell_type": "code",
   "execution_count": 2,
   "id": "a8eae6dc-4d90-4cef-91d8-230ff4090e26",
   "metadata": {
    "tags": []
   },
   "outputs": [
    {
     "data": {
      "text/plain": [
       "3.3333333333333335"
      ]
     },
     "execution_count": 2,
     "metadata": {},
     "output_type": "execute_result"
    }
   ],
   "source": [
    "# This will convert 200 minutes to hours by dividing by 60\n",
    "200/60"
   ]
  },
  {
   "cell_type": "markdown",
   "id": "5dce725b-05bf-449b-82e9-368ade2ad239",
   "metadata": {},
   "source": [
    "## Author\n",
    "Joana Santos"
   ]
  },
  {
   "cell_type": "code",
   "execution_count": null,
   "id": "8c353d67-1d29-406c-8d0e-0b9414e67139",
   "metadata": {},
   "outputs": [],
   "source": []
  }
 ],
 "metadata": {
  "kernelspec": {
   "display_name": "Python",
   "language": "python",
   "name": "conda-env-python-py"
  },
  "language_info": {
   "codemirror_mode": {
    "name": "ipython",
    "version": 3
   },
   "file_extension": ".py",
   "mimetype": "text/x-python",
   "name": "python",
   "nbconvert_exporter": "python",
   "pygments_lexer": "ipython3",
   "version": "3.7.12"
  }
 },
 "nbformat": 4,
 "nbformat_minor": 5
}
